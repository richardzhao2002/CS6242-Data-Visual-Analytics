{
 "cells": [
  {
   "cell_type": "markdown",
   "id": "e5905a69",
   "metadata": {},
   "source": [
    "# CSE6242 - HW3 - Q1"
   ]
  },
  {
   "cell_type": "markdown",
   "id": "ddc5717e-fb7f-415c-ae02-16459c544fa4",
   "metadata": {},
   "source": [
    "<div class=\"alert alert-block alert-danger\">\n",
    "    WARNING: Do <strong>NOT</strong> remove any comment that says \"#export\" because that will crash the autograder in Gradescope. We use this comment to export your code in these cells for grading.\n",
    "</div>"
   ]
  },
  {
   "cell_type": "markdown",
   "id": "09289981",
   "metadata": {},
   "source": [
    "Pyspark Imports"
   ]
  },
  {
   "cell_type": "code",
   "execution_count": 1,
   "id": "139318cb",
   "metadata": {},
   "outputs": [],
   "source": [
    "#export\n",
    "### DO NOT MODIFY THIS CELL ###\n",
    "import pyspark\n",
    "from pyspark.sql import SQLContext\n",
    "from pyspark.sql.functions import hour, when, col, date_format, to_timestamp, ceil, coalesce"
   ]
  },
  {
   "cell_type": "markdown",
   "id": "3fd9e0f8",
   "metadata": {},
   "source": [
    "Initialize PySpark Context"
   ]
  },
  {
   "cell_type": "code",
   "execution_count": 2,
   "id": "b0c18c6c",
   "metadata": {},
   "outputs": [
    {
     "name": "stderr",
     "output_type": "stream",
     "text": [
      "Setting default log level to \"WARN\".\n",
      "To adjust logging level use sc.setLogLevel(newLevel). For SparkR, use setLogLevel(newLevel).\n",
      "24/03/11 05:41:02 WARN NativeCodeLoader: Unable to load native-hadoop library for your platform... using builtin-java classes where applicable\n",
      "/usr/local/lib/python3.9/dist-packages/pyspark/sql/context.py:113: FutureWarning: Deprecated in 3.0.0. Use SparkSession.builder.getOrCreate() instead.\n",
      "  warnings.warn(\n"
     ]
    }
   ],
   "source": [
    "### DO NOT MODIFY THIS CELL ###\n",
    "sc = pyspark.SparkContext(appName=\"HW3-Q1\")\n",
    "sqlContext = SQLContext(sc)"
   ]
  },
  {
   "cell_type": "markdown",
   "id": "d68ae314",
   "metadata": {},
   "source": [
    "Define function for loading data"
   ]
  },
  {
   "cell_type": "code",
   "execution_count": 3,
   "id": "7e5bbdda",
   "metadata": {},
   "outputs": [],
   "source": [
    "### DO NOT MODIFY THIS CELL ###\n",
    "def load_data():\n",
    "    df = sqlContext.read.option(\"header\",True) \\\n",
    "     .csv(\"yellow_tripdata_2019-01_short.csv\")\n",
    "    return df"
   ]
  },
  {
   "cell_type": "markdown",
   "id": "0d52409d",
   "metadata": {},
   "source": [
    "### Q1.a"
   ]
  },
  {
   "cell_type": "markdown",
   "id": "e43f6e00",
   "metadata": {},
   "source": [
    "Perform data casting to clean incoming dataset"
   ]
  },
  {
   "cell_type": "code",
   "execution_count": 4,
   "id": "11f801b4",
   "metadata": {},
   "outputs": [],
   "source": [
    "#export\n",
    "def clean_data(df):\n",
    "    '''\n",
    "    input: df a dataframe\n",
    "    output: df a dataframe with the all the original columns\n",
    "    '''\n",
    "    \n",
    "    # START YOUR CODE HERE ---------\n",
    "\n",
    "    df = df.withColumn('passenger_count', df['passenger_count'].cast('int'))\n",
    "    #df['passenger_count'] = df['passenger_count'].astype(int)\n",
    "    df = df.withColumn('total_amount', df['total_amount'].cast('float'))\n",
    "    #df['total_amount'] = df['total_amount'].astype(float)\n",
    "    df = df.withColumn('tip_amount', df['tip_amount'].cast('float'))\n",
    "    #df['tip_amount'] = df['tip_amount'].astype(float)\n",
    "    df = df.withColumn('trip_distance', df['trip_distance'].cast('float'))\n",
    "    #df['trip_distance'] = df['trip_distance'].astype(float)\n",
    "    df = df.withColumn('fare_amount', df['fare_amount'].cast('float'))\n",
    "    #df['fare_amount'] = df['fare_amount'].astype(float)\n",
    "\n",
    "    df = df.withColumn('tpep_pickup_datetime', df['tpep_pickup_datetime'].cast('timestamp'))\n",
    "    df = df.withColumn('tpep_dropoff_datetime', df['tpep_dropoff_datetime'].cast('timestamp'))\n",
    "\n",
    "    # END YOUR CODE HERE -----------\n",
    "    \n",
    "    return df"
   ]
  },
  {
   "cell_type": "markdown",
   "id": "d4f565d0",
   "metadata": {},
   "source": [
    "### Q1.b"
   ]
  },
  {
   "cell_type": "markdown",
   "id": "72b4f712",
   "metadata": {},
   "source": [
    "Find rate per person for based on how many passengers travel between pickup and dropoff locations. "
   ]
  },
  {
   "cell_type": "code",
   "execution_count": 5,
   "id": "4e115152",
   "metadata": {},
   "outputs": [],
   "source": [
    "#export\n",
    "def common_pair(df):\n",
    "    '''\n",
    "    input: df a dataframe\n",
    "    output: df a dataframe with following columns:\n",
    "            - PULocationID\n",
    "            - DOLocationID\n",
    "            - total_passenger_count\n",
    "            - per_person_rate\n",
    "            \n",
    "    per_person_rate is the total_amount per person for a given pair.\n",
    "    \n",
    "    '''\n",
    "    \n",
    "    # START YOUR CODE HERE ---------\n",
    "    df = df.filter(~(col('PULocationID') == col('DOLocationID')))\n",
    "    \n",
    "    df = df.groupBy('PULocationID', 'DOLocationID').agg({'passenger_count':\"sum\", 'total_amount' : 'sum'})\n",
    "    df = df.select(col('PULocationID'), \n",
    "                   col('DOLocationID'), \n",
    "                   col('sum(passenger_count)').alias('total_passenger_count'), \n",
    "                   col('sum(total_amount)').alias('total_amount'))\n",
    "    \n",
    "    df = df.sort(df['total_passenger_count'].desc()).limit(10)\n",
    "\n",
    "    df = df\\\n",
    "        .withColumn(\"per_person_rate\", (col(\"total_amount\") / col(\"total_passenger_count\")))\\\n",
    "        .drop(\"total_amount\")\n",
    "\n",
    "    df = df.sort(df['total_passenger_count'].desc(), df['per_person_rate'].desc())\n",
    "    \n",
    "    # END YOUR CODE HERE -----------\n",
    "    \n",
    "    return df"
   ]
  },
  {
   "cell_type": "markdown",
   "id": "127574ab",
   "metadata": {},
   "source": [
    "### Q1.c"
   ]
  },
  {
   "cell_type": "markdown",
   "id": "36a8fd27",
   "metadata": {},
   "source": [
    "Find trips which trip distances generate the highest tip percentage."
   ]
  },
  {
   "cell_type": "code",
   "execution_count": 6,
   "id": "376c981c",
   "metadata": {},
   "outputs": [],
   "source": [
    "#export\n",
    "def distance_with_most_tip(df):\n",
    "    '''\n",
    "    input: df a dataframe\n",
    "    output: df a dataframe with following columns:\n",
    "            - trip_distance\n",
    "            - tip_percent\n",
    "            \n",
    "    trip_percent is the percent of tip out of fare_amount\n",
    "    \n",
    "    '''\n",
    "    \n",
    "    # START YOUR CODE HERE ---------\n",
    "    df = df.filter(df.fare_amount > 2)\n",
    "    df = df.filter(df.trip_distance > 0)\n",
    "\n",
    "    df = df\\\n",
    "        .withColumn(\"tip_percent\", (col(\"tip_amount\") * 100 / col(\"fare_amount\")))\n",
    "\n",
    "    df = df.select(ceil(col('trip_distance')).alias('trip_distance'), col('tip_percent'))\n",
    "    df = df.groupBy('trip_distance').agg({'tip_percent' : 'average'})\n",
    "\n",
    "    df = df.select(col('trip_distance'), col('avg(tip_percent)').alias('tip_percent'))\n",
    "\n",
    "    df = df.sort(df['tip_percent'].desc()).limit(15)\n",
    "    # END YOUR CODE HERE -----------\n",
    "    \n",
    "    return df"
   ]
  },
  {
   "cell_type": "markdown",
   "id": "f0172fe6",
   "metadata": {},
   "source": [
    "### Q1.d"
   ]
  },
  {
   "cell_type": "markdown",
   "id": "4613c906",
   "metadata": {},
   "source": [
    "Determine the average speed at different times of day."
   ]
  },
  {
   "cell_type": "code",
   "execution_count": 7,
   "id": "abff9e24",
   "metadata": {},
   "outputs": [],
   "source": [
    "#export\n",
    "def time_with_most_traffic(df):\n",
    "    '''\n",
    "    input: df a dataframe\n",
    "    output: df a dataframe with following columns:\n",
    "            - time_of_day\n",
    "            - am_avg_speed\n",
    "            - pm_avg_speed\n",
    "            \n",
    "    trip_percent is the percent of tip out of fare_amount\n",
    "    \n",
    "    '''\n",
    "    \n",
    "    # START YOUR CODE HERE ---------\n",
    "    df = df.withColumn(\"trip_duration_hours\", (col(\"tpep_dropoff_datetime\").cast(\"long\") - col(\"tpep_pickup_datetime\").cast(\"long\")) / 3600)\n",
    "    \n",
    "    # Format the time of day and separate into AM and PM\n",
    "    df = df.withColumn(\"formatted_pickup_time\", date_format(\"tpep_pickup_datetime\", \"H\"))\n",
    "    df = df.withColumn(\"time_of_day\", (col(\"formatted_pickup_time\").cast(\"int\") % 12))  # Use % 12 to convert to 12-hour time\n",
    "    \n",
    "    # Separate into AM and PM\n",
    "    am_df = df.filter((col(\"formatted_pickup_time\").cast(\"int\") < 12))\n",
    "    pm_df = df.filter((col(\"formatted_pickup_time\").cast(\"int\") >= 12))\n",
    "    \n",
    "    # Calculate average trip distance and trip duration for each hour in AM and PM\n",
    "    am_avg_trip_distance = am_df.groupBy(\"time_of_day\").agg({\"trip_distance\": \"avg\"}).withColumnRenamed(\"avg(trip_distance)\", \"am_avg_trip_distance\")\n",
    "    pm_avg_trip_distance = pm_df.groupBy(\"time_of_day\").agg({\"trip_distance\": \"avg\"}).withColumnRenamed(\"avg(trip_distance)\", \"pm_avg_trip_distance\")\n",
    "    \n",
    "    am_avg_trip_duration = am_df.groupBy(\"time_of_day\").agg({\"trip_duration_hours\": \"avg\"}).withColumnRenamed(\"avg(trip_duration_hours)\", \"am_avg_trip_duration\")\n",
    "    pm_avg_trip_duration = pm_df.groupBy(\"time_of_day\").agg({\"trip_duration_hours\": \"avg\"}).withColumnRenamed(\"avg(trip_duration_hours)\", \"pm_avg_trip_duration\")\n",
    "    \n",
    "    # Calculate average speed based on average trip distance and trip duration\n",
    "    am_avg_speed = am_avg_trip_distance.join(am_avg_trip_duration, \"time_of_day\", \"inner\") \\\n",
    "                                       .withColumn(\"am_avg_speed\", col(\"am_avg_trip_distance\") / col(\"am_avg_trip_duration\"))\n",
    "    \n",
    "    pm_avg_speed = pm_avg_trip_distance.join(pm_avg_trip_duration, \"time_of_day\", \"inner\") \\\n",
    "                                       .withColumn(\"pm_avg_speed\", col(\"pm_avg_trip_distance\") / col(\"pm_avg_trip_duration\"))\n",
    "    \n",
    "    # Create a DataFrame with time_of_day from 0 to 11\n",
    "    time_of_day_df = df.select(\"time_of_day\").distinct().orderBy(\"time_of_day\")\n",
    "    \n",
    "    # Join with average speed DataFrames and select the desired columns\n",
    "    df = time_of_day_df.join(am_avg_speed.select(\"time_of_day\", \"am_avg_speed\"), \"time_of_day\", \"left_outer\") \\\n",
    "                             .join(pm_avg_speed.select(\"time_of_day\", \"pm_avg_speed\"), \"time_of_day\", \"left_outer\") \\\n",
    "                             .orderBy(\"time_of_day\")\n",
    "\n",
    "    # END YOUR CODE HERE -----------\n",
    "    \n",
    "    return df"
   ]
  },
  {
   "cell_type": "markdown",
   "id": "d40b4e83-0f93-4637-bc3b-34f9fbb9f249",
   "metadata": {},
   "source": [
    "## The below cells are for you to investigate your solutions and will not be graded"
   ]
  },
  {
   "cell_type": "code",
   "execution_count": 8,
   "id": "e3b238c9-7bc7-458a-a3d8-8ce2d686418a",
   "metadata": {},
   "outputs": [],
   "source": [
    "df = load_data()\n",
    "df = clean_data(df)"
   ]
  },
  {
   "cell_type": "code",
   "execution_count": 9,
   "id": "7bbab81e-2317-4b4e-b25a-88f3110a94f8",
   "metadata": {},
   "outputs": [
    {
     "name": "stdout",
     "output_type": "stream",
     "text": [
      "+------------+------------+---------------------+------------------+\n",
      "|PULocationID|DOLocationID|total_passenger_count|   per_person_rate|\n",
      "+------------+------------+---------------------+------------------+\n",
      "|         239|         238|                   62|  4.26274198870505|\n",
      "|         237|         236|                   60| 4.482500068346659|\n",
      "|         263|         141|                   52|3.4190384974846473|\n",
      "|         161|         236|                   42| 5.368571440378825|\n",
      "|         148|          79|                   42| 4.711904752822149|\n",
      "|         142|         238|                   39|  5.05487182812813|\n",
      "|         141|         236|                   37| 4.355675723101641|\n",
      "|         239|         143|                   37| 4.252162224537617|\n",
      "|         239|         142|                   35| 3.817714350564139|\n",
      "|         239|         151|                   34|4.8673530045677635|\n",
      "+------------+------------+---------------------+------------------+\n",
      "\n"
     ]
    }
   ],
   "source": [
    "common_pair(df).show()"
   ]
  },
  {
   "cell_type": "code",
   "execution_count": 10,
   "id": "bf7dd12b-4b60-407b-9c52-5b7cb2082cb8",
   "metadata": {},
   "outputs": [
    {
     "name": "stdout",
     "output_type": "stream",
     "text": [
      "+-------------+------------------+\n",
      "|trip_distance|       tip_percent|\n",
      "+-------------+------------------+\n",
      "|            1|17.129815971513313|\n",
      "|            2|15.815527155632552|\n",
      "|           17|15.796441782308916|\n",
      "|           20| 15.11240992123345|\n",
      "|            3|14.886705727113446|\n",
      "|            6|14.579695131601051|\n",
      "|            5|14.245405861990653|\n",
      "|            4|13.831569507473274|\n",
      "|            9|13.814476557648435|\n",
      "|            8|12.072596772433315|\n",
      "|           19|11.952632334985276|\n",
      "|           10|11.880490518902954|\n",
      "|            7| 10.80057562837643|\n",
      "|           21|10.739019886973427|\n",
      "|           18|10.696822158448429|\n",
      "+-------------+------------------+\n",
      "\n"
     ]
    }
   ],
   "source": [
    "distance_with_most_tip(df).show()"
   ]
  },
  {
   "cell_type": "code",
   "execution_count": 11,
   "id": "a02723df-2490-4234-9292-eea7cebb08ff",
   "metadata": {},
   "outputs": [
    {
     "name": "stdout",
     "output_type": "stream",
     "text": [
      "+-----------+------------------+-------------------+\n",
      "|time_of_day|      am_avg_speed|       pm_avg_speed|\n",
      "+-----------+------------------+-------------------+\n",
      "|          0| 9.377696196631234|               NULL|\n",
      "|          1|10.845483413697353|  5.125214305177561|\n",
      "|          3|              NULL|                0.0|\n",
      "|          4|              NULL|                0.0|\n",
      "|          5|              NULL| 0.5137660239764732|\n",
      "|          6|              NULL|  9.989847870647605|\n",
      "|          7|              NULL|0.18415305490417713|\n",
      "|          8|              NULL| 0.5183127622697896|\n",
      "|         10|              NULL| 0.6147483972627696|\n",
      "|         11|              NULL|  4.650958285207579|\n",
      "+-----------+------------------+-------------------+\n",
      "\n"
     ]
    }
   ],
   "source": [
    "time_with_most_traffic(df).show()"
   ]
  },
  {
   "cell_type": "code",
   "execution_count": null,
   "id": "5c62e0ca-28f9-4b89-8a42-6217ac87dcc0",
   "metadata": {},
   "outputs": [],
   "source": []
  }
 ],
 "metadata": {
  "kernelspec": {
   "display_name": "Python 3 (ipykernel)",
   "language": "python",
   "name": "python3"
  },
  "language_info": {
   "codemirror_mode": {
    "name": "ipython",
    "version": 3
   },
   "file_extension": ".py",
   "mimetype": "text/x-python",
   "name": "python",
   "nbconvert_exporter": "python",
   "pygments_lexer": "ipython3",
   "version": "3.9.2"
  }
 },
 "nbformat": 4,
 "nbformat_minor": 5
}
