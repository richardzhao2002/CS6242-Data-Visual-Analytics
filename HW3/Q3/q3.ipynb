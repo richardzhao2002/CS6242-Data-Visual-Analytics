{
 "cells": [
  {
   "cell_type": "markdown",
   "metadata": {},
   "source": [
    "# HW3 - Q3 [35 pts]"
   ]
  },
  {
   "cell_type": "markdown",
   "metadata": {},
   "source": [
    "## Important Notices\n",
    "\n",
    "<div class=\"alert alert-block alert-danger\">\n",
    "    WARNING: <strong>REMOVE</strong> any print statements added to cells with \"#export\" that are used for debugging purposes befrore submitting because they will crash the autograder in Gradescope. Any additional cells can be used for testing purposes at the bottom. \n",
    "</div>\n",
    "\n",
    "<div class=\"alert alert-block alert-danger\">\n",
    "    WARNING: Do <strong>NOT</strong> remove any comment that says \"#export\" because that will crash the autograder in Gradescope. We use this comment to export your code in these cells for grading.\n",
    "</div>\n",
    "\n",
    "<div class=\"alert alert-block alert-danger\">\n",
    "    WARNING: Do <strong>NOT</strong> import any additional libraries into this workbook.\n",
    "</div>\n",
    "\n",
    "All instructions, code comments, etc. in this notebook **are part of the assignment instructions**. That is, if there is instructions about completing a task in this notebook, that task is not optional.  \n",
    "\n",
    "<div class=\"alert alert-block alert-info\">\n",
    "    You <strong>must</strong> implement the following functions in this notebook to receive credit.\n",
    "</div>\n",
    "\n",
    "`user()`\n",
    "\n",
    "`long_trips()`\n",
    "\n",
    "`manhattan_trips()`\n",
    "\n",
    "`weighted_profit()`\n",
    "\n",
    "`final_output()`\n",
    "\n",
    "Each method will be auto-graded using different sets of parameters or data, to ensure that values are not hard-coded.  You may assume we will only use your code to work with data from the NYC-TLC dataset during auto-grading.\n",
    "\n",
    "<div class=\"alert alert-block alert-danger\">\n",
    "    WARNING: Do <strong>NOT</strong> remove or modify the following utility functions:\n",
    "</div>\n",
    "\n",
    "`load_data()`\n",
    "\n",
    "`main()`"
   ]
  },
  {
   "cell_type": "markdown",
   "metadata": {},
   "source": [
    "<div class=\"alert alert-block alert-info\">\n",
    "    Do <strong>not</strong> change the below cell. Run it to initialize your PySpark instance. If you don't get any output, make sure your Notebook's Kernel is set to \"PySpark\" in the top right corner.\n",
    "</div>"
   ]
  },
  {
   "cell_type": "code",
   "execution_count": 1,
   "metadata": {},
   "outputs": [
    {
     "name": "stdout",
     "output_type": "stream",
     "text": [
      "Calculation started (calculation_id=8cc7177b-67e0-05d4-771f-f2c4439cb4a8) in (session=52c71779-fa3d-1aab-7d3c-b18157351b2b). Checking calculation status...\n"
     ]
    },
    {
     "data": {
      "application/vnd.jupyter.widget-view+json": {
       "model_id": "af1c59cb21a34109959fd12e387180bc",
       "version_major": 2,
       "version_minor": 0
      },
      "text/plain": [
       "Progress:   0%|          |elapsed time = 00:00s"
      ]
     },
     "metadata": {},
     "output_type": "display_data"
    },
    {
     "name": "stdout",
     "output_type": "stream",
     "text": [
      "Calculation completed.\n",
      "<SparkContext master=athena appName=default>\n",
      "\n"
     ]
    }
   ],
   "source": [
    "sc"
   ]
  },
  {
   "cell_type": "markdown",
   "metadata": {},
   "source": [
    "<div class=\"alert alert-block alert-danger\">\n",
    "    WARNING: Do <strong>NOT</strong> remodify the below cell. It contains the function for loading data and all imports, and the function for running your code.\n",
    "</div>"
   ]
  },
  {
   "cell_type": "code",
   "execution_count": 2,
   "metadata": {},
   "outputs": [
    {
     "name": "stdout",
     "output_type": "stream",
     "text": [
      "Calculation started (calculation_id=5ac7177b-6d92-5164-298b-d9631767a0a5) in (session=52c71779-fa3d-1aab-7d3c-b18157351b2b). Checking calculation status...\n"
     ]
    },
    {
     "data": {
      "application/vnd.jupyter.widget-view+json": {
       "model_id": "1544841d45d34521a2cd7e9fde243313",
       "version_major": 2,
       "version_minor": 0
      },
      "text/plain": [
       "Progress:   0%|          |elapsed time = 00:00s"
      ]
     },
     "metadata": {},
     "output_type": "display_data"
    },
    {
     "name": "stdout",
     "output_type": "stream",
     "text": [
      "Calculation completed.\n"
     ]
    }
   ],
   "source": [
    "#export\n",
    "from pyspark.sql.functions import *\n",
    "from pyspark.sql import *"
   ]
  },
  {
   "cell_type": "code",
   "execution_count": 3,
   "metadata": {},
   "outputs": [
    {
     "name": "stdout",
     "output_type": "stream",
     "text": [
      "Calculation started (calculation_id=a6c7177b-72b0-bb35-0c01-9c54406049ee) in (session=52c71779-fa3d-1aab-7d3c-b18157351b2b). Checking calculation status...\n"
     ]
    },
    {
     "data": {
      "application/vnd.jupyter.widget-view+json": {
       "model_id": "3504b781e01849abb21d3023587a1e36",
       "version_major": 2,
       "version_minor": 0
      },
      "text/plain": [
       "Progress:   0%|          |elapsed time = 00:00s"
      ]
     },
     "metadata": {},
     "output_type": "display_data"
    },
    {
     "name": "stdout",
     "output_type": "stream",
     "text": [
      "Calculation completed.\n"
     ]
    }
   ],
   "source": [
    "#### DO NOT CHANGE ANYTHING IN THIS CELL ####\n",
    "\n",
    "def load_data(size='small'):\n",
    "    # Loads the data for this question. Do not change this function.\n",
    "    # This function should only be called with the parameter 'small' or 'large'\n",
    "    \n",
    "    if size != 'small' and size != 'large':\n",
    "        print(\"Invalid size parameter provided. Use only 'small' or 'large'.\")\n",
    "        return\n",
    "    \n",
    "    input_bucket = \"s3://cse6242-hw3-q3\"\n",
    "    \n",
    "    # Load Trip Data\n",
    "    trip_path = '/'+size+'/yellow_tripdata*'\n",
    "    trips = spark.read.csv(input_bucket + trip_path, header=True, inferSchema=True)\n",
    "    print(\"Trip Count: \",trips.count()) # Prints # of trips (# of records, as each record is one trip)\n",
    "    \n",
    "    # Load Lookup Data\n",
    "    lookup_path = '/'+size+'/taxi*'\n",
    "    lookup = spark.read.csv(input_bucket + lookup_path, header=True, inferSchema=True)\n",
    "    \n",
    "    return trips, lookup\n",
    "\n",
    "def main(size, bucket):\n",
    "    # Runs your functions implemented above.\n",
    "    \n",
    "    print(user())\n",
    "    trips, lookup = load_data(size=size)\n",
    "    trips = long_trips(trips)\n",
    "    mtrips = manhattan_trips(trips, lookup)\n",
    "    wp = weighted_profit(trips, mtrips)\n",
    "    final = final_output(wp, lookup)\n",
    "    \n",
    "    # Outputs the results for you to visually see\n",
    "    final.show()\n",
    "    \n",
    "    # Writes out as a CSV to your bucket.\n",
    "    final.write.csv(bucket)"
   ]
  },
  {
   "cell_type": "markdown",
   "metadata": {},
   "source": [
    "# Implement the below functions for this assignment:\n",
    "<div class=\"alert alert-block alert-danger\">\n",
    "    WARNING: Do <strong>NOT</strong> change any function inputs or outputs, and ensure that the dataframes your code returns align with the schema definitions commented in each function. Do <strong>NOT</strong> remove the #export comment from each of the code blocks either. This can prevent your code from being converted to a python file.\n",
    "</div>"
   ]
  },
  {
   "cell_type": "markdown",
   "metadata": {},
   "source": [
    "## 3a. [1 pt] Update the `user()` function\n",
    "This function should return your GT username, eg: gburdell3"
   ]
  },
  {
   "cell_type": "code",
   "execution_count": 4,
   "metadata": {},
   "outputs": [
    {
     "name": "stdout",
     "output_type": "stream",
     "text": [
      "Calculation started (calculation_id=0ac7177b-77db-912c-4ce0-8b32b5a05b3c) in (session=52c71779-fa3d-1aab-7d3c-b18157351b2b). Checking calculation status...\n"
     ]
    },
    {
     "data": {
      "application/vnd.jupyter.widget-view+json": {
       "model_id": "922e3409edef4e9a8bfdf9a13c766f74",
       "version_major": 2,
       "version_minor": 0
      },
      "text/plain": [
       "Progress:   0%|          |elapsed time = 00:00s"
      ]
     },
     "metadata": {},
     "output_type": "display_data"
    },
    {
     "name": "stdout",
     "output_type": "stream",
     "text": [
      "Calculation completed.\n"
     ]
    }
   ],
   "source": [
    "#export\n",
    "def user():\n",
    "    # Returns a string consisting of your GT username.\n",
    "    return 'rzhao97'"
   ]
  },
  {
   "cell_type": "markdown",
   "metadata": {},
   "source": [
    "## 3b. [2 pts] Update the `long_trips()` function\n",
    "This function filters trips to keep only trips greater than or equal to 2 miles."
   ]
  },
  {
   "cell_type": "code",
   "execution_count": 5,
   "metadata": {},
   "outputs": [
    {
     "name": "stdout",
     "output_type": "stream",
     "text": [
      "Calculation started (calculation_id=3ac7177b-7952-416f-32cd-1807825f743a) in (session=52c71779-fa3d-1aab-7d3c-b18157351b2b). Checking calculation status...\n"
     ]
    },
    {
     "data": {
      "application/vnd.jupyter.widget-view+json": {
       "model_id": "e1055718e61245fa9f852875a0a1947e",
       "version_major": 2,
       "version_minor": 0
      },
      "text/plain": [
       "Progress:   0%|          |elapsed time = 00:00s"
      ]
     },
     "metadata": {},
     "output_type": "display_data"
    },
    {
     "name": "stdout",
     "output_type": "stream",
     "text": [
      "Calculation completed.\n"
     ]
    }
   ],
   "source": [
    "#export\n",
    "def long_trips(trips):\n",
    "    # Returns a Dataframe (trips) with Schema the same as :trips:\n",
    "    df = trips.filter(trips.trip_distance >= 2)\n",
    "    return df"
   ]
  },
  {
   "cell_type": "markdown",
   "metadata": {},
   "source": [
    "## 3c. [6 pts] Update the `manhattan_trips()` function\n",
    "\n",
    "This function determines the top 20 locations with a `DOLocationID` in manhattan by passenger_count (pcount).\n",
    "\n",
    "Example output formatting:\n",
    "\n",
    "```\n",
    "+--------------+--------+\n",
    "| DOLocationID | pcount |\n",
    "+--------------+--------+\n",
    "|             5|      15|\n",
    "|            16|      12| \n",
    "+--------------+--------+\n",
    "```"
   ]
  },
  {
   "cell_type": "code",
   "execution_count": 6,
   "metadata": {},
   "outputs": [
    {
     "name": "stdout",
     "output_type": "stream",
     "text": [
      "Calculation started (calculation_id=bac7177b-7aa0-6eac-980c-f045b6c172b3) in (session=52c71779-fa3d-1aab-7d3c-b18157351b2b). Checking calculation status...\n"
     ]
    },
    {
     "data": {
      "application/vnd.jupyter.widget-view+json": {
       "model_id": "8678d4704e874ea6902b84a45456a58c",
       "version_major": 2,
       "version_minor": 0
      },
      "text/plain": [
       "Progress:   0%|          |elapsed time = 00:00s"
      ]
     },
     "metadata": {},
     "output_type": "display_data"
    },
    {
     "name": "stdout",
     "output_type": "stream",
     "text": [
      "Calculation completed.\n"
     ]
    }
   ],
   "source": [
    "#export\n",
    "def manhattan_trips(trips, lookup):\n",
    "    # Returns a Dataframe (mtrips) with Schema: DOLocationID, pcount\n",
    "    lookup = lookup.withColumnRenamed('LocationID', 'DOLocationID')\n",
    "    df = trips.join(lookup, 'DOLocationID', 'outer')\n",
    "    df = df.filter(df.Borough == 'Manhattan')\n",
    "    \n",
    "    df = df.groupBy('DOLocationID').agg({'passenger_count': 'sum'})\n",
    "    df = df.select(col('DOLocationID'),\n",
    "                  col('sum(passenger_count)').alias('pcount'))\n",
    "    \n",
    "    df = df.sort(df['pcount'].desc()).limit(20)\n",
    "    return df"
   ]
  },
  {
   "cell_type": "markdown",
   "metadata": {},
   "source": [
    "## 3d. [6 pts] Update the `weighted_profit()` function\n",
    "This function should determine the average `total_amount`, the total count of trips, and the total count of trips ending in the top 20 destinations and return the `weighted_profit` as discussed in the homework document.\n",
    "\n",
    "Example output formatting:\n",
    "```\n",
    "+--------------+-------------------+\n",
    "| PULocationID |  weighted_profit  |\n",
    "+--------------+-------------------+\n",
    "|            18| 33.784444421924436| \n",
    "|            12| 21.124577637149223| \n",
    "+--------------+-------------------+\n",
    "```"
   ]
  },
  {
   "cell_type": "code",
   "execution_count": 40,
   "metadata": {},
   "outputs": [
    {
     "name": "stdout",
     "output_type": "stream",
     "text": [
      "Calculation started (calculation_id=46c71789-b085-1f16-2610-a1b0602d43c3) in (session=52c71779-fa3d-1aab-7d3c-b18157351b2b). Checking calculation status...\n"
     ]
    },
    {
     "data": {
      "application/vnd.jupyter.widget-view+json": {
       "model_id": "06a38e75f24c4c73b6de7e20f684b9c4",
       "version_major": 2,
       "version_minor": 0
      },
      "text/plain": [
       "Progress:   0%|          |elapsed time = 00:00s"
      ]
     },
     "metadata": {},
     "output_type": "display_data"
    },
    {
     "name": "stdout",
     "output_type": "stream",
     "text": [
      "Calculation completed.\n"
     ]
    }
   ],
   "source": [
    "#export\n",
    "def weighted_profit(trips, mtrips): \n",
    "    # Returns a Dataframe (wp) with Schema: PULocationID, weighted_profit\n",
    "    # Note: Use decimal datatype for weighted profit (NOTE: DON'T USE FLOAT)\n",
    "    # Our grader will be only be checking the first 8 characters for each value in the dataframe\n",
    "    filtered = trips.join(mtrips, 'DOLocationID', 'inner')\n",
    "    \n",
    "    raw = trips.groupBy('PULocationID').agg({'PULocationID': 'count', 'total_amount': 'average'})\n",
    "    raw = raw.withColumnRenamed('count(PULocationID)', 'total')\n",
    "    filtered = filtered.groupBy('PULocationID').agg({'PULocationID': 'count'})\n",
    "    filtered = filtered.withColumnRenamed('count(PULocationID)', 'popular')\n",
    "    \n",
    "    df = raw.join(filtered, 'PULocationID', 'inner')\n",
    "    df = df.withColumnRenamed('avg(total_amount)', 'amount')\n",
    "    \n",
    "    df = df\\\n",
    "        .withColumn(\"weighted_profit\", \n",
    "                    (col('amount') * col(\"popular\") / col(\"total\")).cast('decimal(24, 10)'))\\\n",
    "        .drop('amount', 'total', 'popular')\n",
    "    \n",
    "    #df = df.sort(df['weighted_profit'].desc()).limit(20)\n",
    "\n",
    "    return df"
   ]
  },
  {
   "cell_type": "markdown",
   "metadata": {},
   "source": [
    "## 3e. [5 pts] Update the `final_output()` function\n",
    "This function will take the results of `weighted_profit`, links it to the `borough` and `zone` and returns the top 20 locations with the highest `weighted_profit`.\n",
    "\n",
    "Example output formatting:\n",
    "```\n",
    "+------------+---------+-------------------+\n",
    "|    Zone    | Borough |  weighted_profit  |\n",
    "+----------------------+-------------------+\n",
    "| JFK Airport|   Queens|  16.95897820117925|\n",
    "|     Jamaica|   Queens| 14.879835188762488|\n",
    "+------------+---------+-------------------+\n",
    "```"
   ]
  },
  {
   "cell_type": "code",
   "execution_count": 31,
   "metadata": {},
   "outputs": [
    {
     "name": "stdout",
     "output_type": "stream",
     "text": [
      "Calculation started (calculation_id=b8c71780-f401-546f-f9ea-8367d1236a64) in (session=52c71779-fa3d-1aab-7d3c-b18157351b2b). Checking calculation status...\n"
     ]
    },
    {
     "data": {
      "application/vnd.jupyter.widget-view+json": {
       "model_id": "7885bf6c2b2e47b5bac48a85ae9e73ed",
       "version_major": 2,
       "version_minor": 0
      },
      "text/plain": [
       "Progress:   0%|          |elapsed time = 00:00s"
      ]
     },
     "metadata": {},
     "output_type": "display_data"
    },
    {
     "name": "stdout",
     "output_type": "stream",
     "text": [
      "Calculation completed.\n"
     ]
    }
   ],
   "source": [
    "#export\n",
    "def final_output(wp, lookup): \n",
    "    # Returns a Dataframe (final) with Schema: Zone, Borough, weighted_profit\n",
    "    # Note: Use decimal datatype for weighted profit (NOTE: DON'T USE FLOAT)\n",
    "    # Our grader will be only be checking the first 8 characters for each value in the dataframe\n",
    "    wp = wp.withColumnRenamed('PULocationID', 'LocationID')\n",
    "    df = wp.join(lookup, 'LocationID', 'inner')\n",
    "    \n",
    "    df = df.select(col('Zone'),\n",
    "                  col('Borough'),\n",
    "                  col('weighted_profit'))\n",
    "    \n",
    "    df = df.sort(df['weighted_profit'].desc()).limit(20)\n",
    "    \n",
    "    return df"
   ]
  },
  {
   "cell_type": "markdown",
   "metadata": {},
   "source": [
    "#### Testing\n",
    "\n",
    "<div class=\"alert alert-block alert-info\">\n",
    "    You may use the below cell for any additional testing you need to do, however any code implemented below will not be run or used when grading.\n",
    "</div>"
   ]
  },
  {
   "cell_type": "code",
   "execution_count": 35,
   "metadata": {},
   "outputs": [
    {
     "name": "stdout",
     "output_type": "stream",
     "text": [
      "Calculation started (calculation_id=acc71788-d07d-7ef7-ae2c-24c28592f809) in (session=52c71779-fa3d-1aab-7d3c-b18157351b2b). Checking calculation status...\n"
     ]
    },
    {
     "data": {
      "application/vnd.jupyter.widget-view+json": {
       "model_id": "b68d04f760a24d25ad93d8fd480a7a95",
       "version_major": 2,
       "version_minor": 0
      },
      "text/plain": [
       "Progress:   0%|          |elapsed time = 00:00s"
      ]
     },
     "metadata": {},
     "output_type": "display_data"
    },
    {
     "name": "stdout",
     "output_type": "stream",
     "text": [
      "Calculation completed.\n",
      "rzhao97\n",
      "Trip Count:  7667792\n",
      "\n"
     ]
    }
   ],
   "source": [
    "print(user())\n",
    "trips, lookup = load_data()\n",
    "#trips = long_trips(trips)"
   ]
  },
  {
   "cell_type": "code",
   "execution_count": 36,
   "metadata": {},
   "outputs": [
    {
     "name": "stdout",
     "output_type": "stream",
     "text": [
      "Calculation started (calculation_id=32c71789-1283-79aa-39de-95ec9836d67e) in (session=52c71779-fa3d-1aab-7d3c-b18157351b2b). Checking calculation status...\n"
     ]
    },
    {
     "data": {
      "application/vnd.jupyter.widget-view+json": {
       "model_id": "61872cdbf7b54dbba58580df8b4cb016",
       "version_major": 2,
       "version_minor": 0
      },
      "text/plain": [
       "Progress:   0%|          |elapsed time = 00:00s"
      ]
     },
     "metadata": {},
     "output_type": "display_data"
    },
    {
     "name": "stdout",
     "output_type": "stream",
     "text": [
      "Calculation completed.\n",
      "+--------+--------------------+---------------------+---------------+-------------+----------+------------------+------------+------------+------------+-----------+-----+-------+----------+------------+---------------------+------------+--------------------+\n",
      "|VendorID|tpep_pickup_datetime|tpep_dropoff_datetime|passenger_count|trip_distance|RatecodeID|store_and_fwd_flag|PULocationID|DOLocationID|payment_type|fare_amount|extra|mta_tax|tip_amount|tolls_amount|improvement_surcharge|total_amount|congestion_surcharge|\n",
      "+--------+--------------------+---------------------+---------------+-------------+----------+------------------+------------+------------+------------+-----------+-----+-------+----------+------------+---------------------+------------+--------------------+\n",
      "|       1| 2019-01-01 00:46:40|  2019-01-01 00:53:20|              1|          1.5|         1|                 N|         151|         239|           1|        7.0|  0.5|    0.5|      1.65|         0.0|                  0.3|        9.95|                null|\n",
      "|       1| 2019-01-01 00:59:47|  2019-01-01 01:18:59|              1|          2.6|         1|                 N|         239|         246|           1|       14.0|  0.5|    0.5|       1.0|         0.0|                  0.3|        16.3|                null|\n",
      "|       2| 2018-12-21 13:48:30|  2018-12-21 13:52:40|              3|          0.0|         1|                 N|         236|         236|           1|        4.5|  0.5|    0.5|       0.0|         0.0|                  0.3|         5.8|                null|\n",
      "|       2| 2018-11-28 15:52:25|  2018-11-28 15:55:45|              5|          0.0|         1|                 N|         193|         193|           2|        3.5|  0.5|    0.5|       0.0|         0.0|                  0.3|        7.55|                null|\n",
      "|       2| 2018-11-28 15:56:57|  2018-11-28 15:58:33|              5|          0.0|         2|                 N|         193|         193|           2|       52.0|  0.0|    0.5|       0.0|         0.0|                  0.3|       55.55|                null|\n",
      "|       2| 2018-11-28 16:25:49|  2018-11-28 16:28:26|              5|          0.0|         1|                 N|         193|         193|           2|        3.5|  0.5|    0.5|       0.0|        5.76|                  0.3|       13.31|                null|\n",
      "|       2| 2018-11-28 16:29:37|  2018-11-28 16:33:43|              5|          0.0|         2|                 N|         193|         193|           2|       52.0|  0.0|    0.5|       0.0|         0.0|                  0.3|       55.55|                null|\n",
      "|       1| 2019-01-01 00:21:28|  2019-01-01 00:28:37|              1|          1.3|         1|                 N|         163|         229|           1|        6.5|  0.5|    0.5|      1.25|         0.0|                  0.3|        9.05|                null|\n",
      "|       1| 2019-01-01 00:32:01|  2019-01-01 00:45:39|              1|          3.7|         1|                 N|         229|           7|           1|       13.5|  0.5|    0.5|       3.7|         0.0|                  0.3|        18.5|                null|\n",
      "|       1| 2019-01-01 00:57:32|  2019-01-01 01:09:32|              2|          2.1|         1|                 N|         141|         234|           1|       10.0|  0.5|    0.5|       1.7|         0.0|                  0.3|        13.0|                null|\n",
      "|       1| 2019-01-01 00:24:04|  2019-01-01 00:47:06|              2|          2.8|         1|                 N|         246|         162|           1|       15.0|  0.5|    0.5|      3.25|         0.0|                  0.3|       19.55|                null|\n",
      "|       1| 2019-01-01 00:21:59|  2019-01-01 00:28:24|              1|          0.7|         1|                 N|         238|         151|           1|        5.5|  0.5|    0.5|       1.7|         0.0|                  0.3|         8.5|                null|\n",
      "|       1| 2019-01-01 00:45:21|  2019-01-01 01:31:05|              1|          8.7|         1|                 N|         163|          25|           1|       34.5|  0.5|    0.5|      7.15|         0.0|                  0.3|       42.95|                null|\n",
      "|       1| 2019-01-01 00:43:19|  2019-01-01 01:07:42|              1|          6.3|         1|                 N|         224|          25|           1|       21.5|  0.5|    0.5|       5.7|         0.0|                  0.3|        28.5|                null|\n",
      "|       1| 2019-01-01 00:58:24|  2019-01-01 01:15:18|              1|          2.7|         1|                 N|         141|         234|           1|       13.0|  0.5|    0.5|       1.0|         0.0|                  0.3|        15.3|                null|\n",
      "|       2| 2019-01-01 00:23:14|  2019-01-01 00:25:40|              1|         0.38|         1|                 N|         170|         170|           2|        3.5|  0.5|    0.5|       0.0|         0.0|                  0.3|         4.8|                null|\n",
      "|       2| 2019-01-01 00:39:51|  2019-01-01 00:48:02|              1|         0.55|         1|                 N|         170|         170|           1|        6.5|  0.5|    0.5|      1.95|         0.0|                  0.3|        9.75|                null|\n",
      "|       2| 2019-01-01 00:46:00|  2019-01-01 00:49:07|              1|          0.3|         1|                 N|         107|         107|           1|        4.0|  0.5|    0.5|      1.06|         0.0|                  0.3|        6.36|                null|\n",
      "|       2| 2019-01-01 00:57:45|  2019-01-01 01:03:51|              1|         1.42|         1|                 N|         170|         141|           1|        6.5|  0.5|    0.5|      1.56|         0.0|                  0.3|        9.36|                null|\n",
      "|       2| 2019-01-01 00:16:16|  2019-01-01 00:25:57|              1|         1.72|         1|                 N|          41|         247|           2|        9.0|  0.5|    0.5|       0.0|         0.0|                  0.3|        10.3|                null|\n",
      "+--------+--------------------+---------------------+---------------+-------------+----------+------------------+------------+------------+------------+-----------+-----+-------+----------+------------+---------------------+------------+--------------------+\n",
      "only showing top 20 rows\n",
      "\n",
      "+----------+-------------+--------------------+------------+\n",
      "|LocationID|      Borough|                Zone|service_zone|\n",
      "+----------+-------------+--------------------+------------+\n",
      "|         1|          EWR|      Newark Airport|         EWR|\n",
      "|         2|       Queens|         Jamaica Bay|   Boro Zone|\n",
      "|         3|        Bronx|Allerton/Pelham G...|   Boro Zone|\n",
      "|         4|    Manhattan|       Alphabet City| Yellow Zone|\n",
      "|         5|Staten Island|       Arden Heights|   Boro Zone|\n",
      "|         6|Staten Island|Arrochar/Fort Wad...|   Boro Zone|\n",
      "|         7|       Queens|             Astoria|   Boro Zone|\n",
      "|         8|       Queens|        Astoria Park|   Boro Zone|\n",
      "|         9|       Queens|          Auburndale|   Boro Zone|\n",
      "|        10|       Queens|        Baisley Park|   Boro Zone|\n",
      "|        11|     Brooklyn|          Bath Beach|   Boro Zone|\n",
      "|        12|    Manhattan|        Battery Park| Yellow Zone|\n",
      "|        13|    Manhattan|   Battery Park City| Yellow Zone|\n",
      "|        14|     Brooklyn|           Bay Ridge|   Boro Zone|\n",
      "|        15|       Queens|Bay Terrace/Fort ...|   Boro Zone|\n",
      "|        16|       Queens|             Bayside|   Boro Zone|\n",
      "|        17|     Brooklyn|             Bedford|   Boro Zone|\n",
      "|        18|        Bronx|        Bedford Park|   Boro Zone|\n",
      "|        19|       Queens|           Bellerose|   Boro Zone|\n",
      "|        20|        Bronx|             Belmont|   Boro Zone|\n",
      "+----------+-------------+--------------------+------------+\n",
      "only showing top 20 rows\n",
      "\n"
     ]
    }
   ],
   "source": [
    "trips.show()\n",
    "lookup.show()\n",
    "trips = long_trips(trips)"
   ]
  },
  {
   "cell_type": "code",
   "execution_count": 37,
   "metadata": {},
   "outputs": [
    {
     "name": "stdout",
     "output_type": "stream",
     "text": [
      "Calculation started (calculation_id=0ac71789-2822-85dd-ae85-0f46a1a35073) in (session=52c71779-fa3d-1aab-7d3c-b18157351b2b). Checking calculation status...\n"
     ]
    },
    {
     "data": {
      "application/vnd.jupyter.widget-view+json": {
       "model_id": "3c3e0d0fd105434eb752494c529af346",
       "version_major": 2,
       "version_minor": 0
      },
      "text/plain": [
       "Progress:   0%|          |elapsed time = 00:00s"
      ]
     },
     "metadata": {},
     "output_type": "display_data"
    },
    {
     "name": "stdout",
     "output_type": "stream",
     "text": [
      "Calculation completed.\n",
      "+------------+------+\n",
      "|DOLocationID|pcount|\n",
      "+------------+------+\n",
      "|         236|142135|\n",
      "|         161|113973|\n",
      "|         230|109837|\n",
      "|         239|100645|\n",
      "|         238| 97914|\n",
      "|         162| 97622|\n",
      "|          48| 96469|\n",
      "|         170| 93111|\n",
      "|         231| 93056|\n",
      "|         263| 92496|\n",
      "|          79| 91976|\n",
      "|         142| 91225|\n",
      "|         141| 87554|\n",
      "|         237| 87042|\n",
      "|         140| 82199|\n",
      "|          68| 77125|\n",
      "|         234| 72878|\n",
      "|         186| 71638|\n",
      "|         163| 70748|\n",
      "|          13| 70077|\n",
      "+------------+------+\n",
      "\n"
     ]
    }
   ],
   "source": [
    "mtrips = manhattan_trips(trips, lookup)\n",
    "mtrips.show()"
   ]
  },
  {
   "cell_type": "code",
   "execution_count": 41,
   "metadata": {},
   "outputs": [
    {
     "name": "stdout",
     "output_type": "stream",
     "text": [
      "Calculation started (calculation_id=bcc71789-c88e-4b28-0c2c-8fa24120cd6b) in (session=52c71779-fa3d-1aab-7d3c-b18157351b2b). Checking calculation status...\n"
     ]
    },
    {
     "data": {
      "application/vnd.jupyter.widget-view+json": {
       "model_id": "e57677be1c964ec199de7705860d4ed6",
       "version_major": 2,
       "version_minor": 0
      },
      "text/plain": [
       "Progress:   0%|          |elapsed time = 00:00s"
      ]
     },
     "metadata": {},
     "output_type": "display_data"
    },
    {
     "name": "stdout",
     "output_type": "stream",
     "text": [
      "Calculation completed.\n",
      "+------------+---------------+\n",
      "|PULocationID|weighted_profit|\n",
      "+------------+---------------+\n",
      "|           6|  31.7844444444|\n",
      "|          99|  29.3425000000|\n",
      "|          93|  24.4761070519|\n",
      "|         187|  24.3577777778|\n",
      "|          10|  23.6426704059|\n",
      "|         156|  23.3555029586|\n",
      "|         194|  23.1245775151|\n",
      "|         215|  22.1741149394|\n",
      "|         206|  21.4918934911|\n",
      "|           5|  20.2962500000|\n",
      "|           8|  19.9653600000|\n",
      "|         138|  17.9367798201|\n",
      "|         171|  17.7970609810|\n",
      "|         132|  16.9628723824|\n",
      "|         130|  14.8798351888|\n",
      "|         105|  14.7962500000|\n",
      "|          58|  14.6131952663|\n",
      "|         219|  14.3371752194|\n",
      "|         157|  13.9404371607|\n",
      "|          28|  13.3594638254|\n",
      "+------------+---------------+\n",
      "\n"
     ]
    }
   ],
   "source": [
    "wprof = weighted_profit(trips, mtrips)\n",
    "wprof.show()"
   ]
  },
  {
   "cell_type": "code",
   "execution_count": 42,
   "metadata": {},
   "outputs": [
    {
     "name": "stdout",
     "output_type": "stream",
     "text": [
      "Calculation started (calculation_id=8cc7178a-026b-2fa5-32cf-0c8c4903af28) in (session=52c71779-fa3d-1aab-7d3c-b18157351b2b). Checking calculation status...\n"
     ]
    },
    {
     "data": {
      "application/vnd.jupyter.widget-view+json": {
       "model_id": "2228a4cc0e9843f1979266276bf5b8df",
       "version_major": 2,
       "version_minor": 0
      },
      "text/plain": [
       "Progress:   0%|          |elapsed time = 00:00s"
      ]
     },
     "metadata": {},
     "output_type": "display_data"
    },
    {
     "name": "stdout",
     "output_type": "stream",
     "text": [
      "Calculation completed.\n",
      "+--------------------+-------------+---------------+\n",
      "|                Zone|      Borough|weighted_profit|\n",
      "+--------------------+-------------+---------------+\n",
      "|       Arden Heights|Staten Island|  20.2962500000|\n",
      "|Arrochar/Fort Wad...|Staten Island|  31.7844444444|\n",
      "|        Astoria Park|       Queens|  19.9653600000|\n",
      "|        Baisley Park|       Queens|  23.6426704059|\n",
      "|Briarwood/Jamaica...|       Queens|  13.3594638254|\n",
      "|        Country Club|        Bronx|  14.6131952663|\n",
      "|Flushing Meadows-...|       Queens|  24.4761070519|\n",
      "|     Freshkills Park|Staten Island|  29.3425000000|\n",
      "|Governor's Island...|    Manhattan|  14.7962500000|\n",
      "|             Jamaica|       Queens|  14.8798351888|\n",
      "|         JFK Airport|       Queens|  16.9628723824|\n",
      "|   LaGuardia Airport|       Queens|  17.9367798201|\n",
      "|     Mariners Harbor|Staten Island|  23.3555029586|\n",
      "|             Maspeth|       Queens|  13.9404371607|\n",
      "|  Murray Hill-Queens|       Queens|  17.7970609810|\n",
      "|       Port Richmond|Staten Island|  24.3577777778|\n",
      "|     Randalls Island|    Manhattan|  23.1245775151|\n",
      "|Saint George/New ...|Staten Island|  21.4918934911|\n",
      "|       South Jamaica|       Queens|  22.1741149394|\n",
      "|Springfield Garde...|       Queens|  14.3371752194|\n",
      "+--------------------+-------------+---------------+\n",
      "\n"
     ]
    }
   ],
   "source": [
    "final_output(wprof, lookup).show()"
   ]
  },
  {
   "cell_type": "code",
   "execution_count": 43,
   "metadata": {},
   "outputs": [
    {
     "name": "stdout",
     "output_type": "stream",
     "text": [
      "Calculation started (calculation_id=48c7178a-4b4e-6a41-63ed-b2b2e99bebce) in (session=52c71779-fa3d-1aab-7d3c-b18157351b2b). Checking calculation status...\n"
     ]
    },
    {
     "data": {
      "application/vnd.jupyter.widget-view+json": {
       "model_id": "a9bba88e6c224c8a804bdc1e994be523",
       "version_major": 2,
       "version_minor": 0
      },
      "text/plain": [
       "Progress:   0%|          |elapsed time = 00:00s"
      ]
     },
     "metadata": {},
     "output_type": "display_data"
    },
    {
     "name": "stdout",
     "output_type": "stream",
     "text": [
      "Calculation completed.\n",
      "rzhao97\n",
      "Trip Count:  187203269\n",
      "+--------------------+-------------+---------------+\n",
      "|                Zone|      Borough|weighted_profit|\n",
      "+--------------------+-------------+---------------+\n",
      "|         Jamaica Bay|       Queens|  16.2591730587|\n",
      "|        Astoria Park|       Queens|  26.2972814509|\n",
      "|        Baisley Park|       Queens|  31.2229521004|\n",
      "|        Battery Park|    Manhattan|  14.5730134009|\n",
      "|Briarwood/Jamaica...|       Queens|  22.8642898034|\n",
      "|              Corona|       Queens|  20.8005378133|\n",
      "|Eltingville/Annad...|Staten Island|  16.5878977273|\n",
      "|Flushing Meadows-...|       Queens|  29.5027711258|\n",
      "|             Jamaica|       Queens|  21.9765709668|\n",
      "|         JFK Airport|       Queens|  17.7158076177|\n",
      "|   LaGuardia Airport|       Queens|  19.6668371981|\n",
      "|             Maspeth|       Queens|  20.1989088562|\n",
      "|  Murray Hill-Queens|       Queens|  14.3183800323|\n",
      "|     Randalls Island|    Manhattan|  26.6153319220|\n",
      "|Saint Michaels Ce...|       Queens|  14.4709224675|\n",
      "|       South Jamaica|       Queens|  28.7019217137|\n",
      "|Springfield Garde...|       Queens|  21.2302932451|\n",
      "|            Steinway|       Queens|  14.0567023677|\n",
      "|TriBeCa/Civic Center|    Manhattan|  13.7073396968|\n",
      "|  World Trade Center|    Manhattan|  13.9525774712|\n",
      "+--------------------+-------------+---------------+\n",
      "\n"
     ]
    }
   ],
   "source": [
    "#main(\"large\", \"s3://cse6242-rzhao97/testing0\")"
   ]
  },
  {
   "cell_type": "code",
   "execution_count": null,
   "metadata": {},
   "outputs": [],
   "source": []
  }
 ],
 "metadata": {
  "kernelspec": {
   "display_name": "Python 3",
   "language": "python",
   "name": "python3"
  },
  "language_info": {
   "codemirror_mode": {
    "name": "python",
    "version": 3
   },
   "file_extension": ".py",
   "mimetype": "text/x-python",
   "name": "python",
   "pygments_lexer": "python3",
   "version": "3.10.11"
  }
 },
 "nbformat": 4,
 "nbformat_minor": 4
}
